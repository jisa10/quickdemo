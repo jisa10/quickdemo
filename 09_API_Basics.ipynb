{
 "cells": [
  {
   "cell_type": "markdown",
   "id": "f5e6ee6f",
   "metadata": {},
   "source": [
    "## Intro to APIs\n",
    "\n",
    "> what in the world is an API?<br>\n",
    "> Well...let me tell you!"
   ]
  },
  {
   "cell_type": "code",
   "execution_count": 1,
   "id": "6820032b",
   "metadata": {},
   "outputs": [],
   "source": [
    "import getpass\n",
    "import requests"
   ]
  },
  {
   "cell_type": "code",
   "execution_count": 1,
   "id": "732132bf",
   "metadata": {},
   "outputs": [
    {
     "name": "stdout",
     "output_type": "stream",
     "text": [
      "Requirement already satisfied: requests in c:\\users\\janet\\anaconda3\\lib\\site-packages (2.32.2)\n",
      "Requirement already satisfied: charset-normalizer<4,>=2 in c:\\users\\janet\\anaconda3\\lib\\site-packages (from requests) (2.0.4)\n",
      "Requirement already satisfied: idna<4,>=2.5 in c:\\users\\janet\\anaconda3\\lib\\site-packages (from requests) (3.7)\n",
      "Requirement already satisfied: urllib3<3,>=1.21.1 in c:\\users\\janet\\anaconda3\\lib\\site-packages (from requests) (2.2.2)\n",
      "Requirement already satisfied: certifi>=2017.4.17 in c:\\users\\janet\\anaconda3\\lib\\site-packages (from requests) (2024.7.4)\n",
      "Note: you may need to restart the kernel to use updated packages.\n"
     ]
    }
   ],
   "source": [
    "pip install requests"
   ]
  },
  {
   "cell_type": "code",
   "execution_count": 10,
   "id": "edd60e74",
   "metadata": {
    "scrolled": true
   },
   "outputs": [],
   "source": [
    "api_key = getpass.getpass('Paste API Key:')"
   ]
  },
  {
   "cell_type": "code",
   "execution_count": 11,
   "id": "827264de",
   "metadata": {},
   "outputs": [],
   "source": [
    "import requests\n",
    "\n",
    "def get_weather(city_name, api_key):\n",
    "    # Base URL for the OpenWeatherMap API\n",
    "    base_url = \"http://api.openweathermap.org/data/2.5/weather?\"\n",
    "    \n",
    "    # Construct the complete URL\n",
    "    complete_url = f\"{base_url}q={city_name}&appid={api_key}\"\n",
    "    \n",
    "    # Make the API request\n",
    "    response = requests.get(complete_url)\n",
    "    \n",
    "    # Convert the response to JSON format\n",
    "    data = response.json()\n",
    "    \n",
    "    # Check the HTTP status code\n",
    "    if data[\"cod\"] == 200:\n",
    "        # Extract and print relevant weather information\n",
    "        main_data = data[\"main\"]\n",
    "        weather_data = data[\"weather\"][0]\n",
    "        \n",
    "        temperature = main_data[\"temp\"] - 273.15  # Convert temperature from Kelvin to Celsius\n",
    "        feels_like = main_data[\"feels_like\"] - 273.15\n",
    "        humidity = main_data[\"humidity\"]\n",
    "        weather_description = weather_data[\"description\"]\n",
    "        \n",
    "        print(f\"Weather in {city_name}:\")\n",
    "        print(f\"Temperature: {temperature:.2f}°C\")\n",
    "        print(f\"Feels Like: {feels_like:.2f}°C\")\n",
    "        print(f\"Humidity: {humidity}%\")\n",
    "        print(f\"Description: {weather_description.capitalize()}\")\n",
    "    else:\n",
    "        # Print any error messages\n",
    "        print(data[\"something went wrong with the request\"])\n"
   ]
  },
  {
   "cell_type": "code",
   "execution_count": 12,
   "id": "4d727759",
   "metadata": {},
   "outputs": [
    {
     "ename": "KeyError",
     "evalue": "'something went wrong with the request'",
     "output_type": "error",
     "traceback": [
      "\u001b[1;31m---------------------------------------------------------------------------\u001b[0m",
      "\u001b[1;31mKeyError\u001b[0m                                  Traceback (most recent call last)",
      "Cell \u001b[1;32mIn[12], line 2\u001b[0m\n\u001b[0;32m      1\u001b[0m city_name \u001b[38;5;241m=\u001b[39m \u001b[38;5;28minput\u001b[39m(\u001b[38;5;124m\"\u001b[39m\u001b[38;5;124mEnter city name: \u001b[39m\u001b[38;5;124m\"\u001b[39m)\n\u001b[1;32m----> 2\u001b[0m \u001b[43mget_weather\u001b[49m\u001b[43m(\u001b[49m\u001b[43mcity_name\u001b[49m\u001b[43m,\u001b[49m\u001b[43m \u001b[49m\u001b[43mapi_key\u001b[49m\u001b[43m)\u001b[49m\n",
      "Cell \u001b[1;32mIn[11], line 34\u001b[0m, in \u001b[0;36mget_weather\u001b[1;34m(city_name, api_key)\u001b[0m\n\u001b[0;32m     31\u001b[0m     \u001b[38;5;28mprint\u001b[39m(\u001b[38;5;124mf\u001b[39m\u001b[38;5;124m\"\u001b[39m\u001b[38;5;124mDescription: \u001b[39m\u001b[38;5;132;01m{\u001b[39;00mweather_description\u001b[38;5;241m.\u001b[39mcapitalize()\u001b[38;5;132;01m}\u001b[39;00m\u001b[38;5;124m\"\u001b[39m)\n\u001b[0;32m     32\u001b[0m \u001b[38;5;28;01melse\u001b[39;00m:\n\u001b[0;32m     33\u001b[0m     \u001b[38;5;66;03m# Print any error messages\u001b[39;00m\n\u001b[1;32m---> 34\u001b[0m     \u001b[38;5;28mprint\u001b[39m(\u001b[43mdata\u001b[49m\u001b[43m[\u001b[49m\u001b[38;5;124;43m\"\u001b[39;49m\u001b[38;5;124;43msomething went wrong with the request\u001b[39;49m\u001b[38;5;124;43m\"\u001b[39;49m\u001b[43m]\u001b[49m)\n",
      "\u001b[1;31mKeyError\u001b[0m: 'something went wrong with the request'"
     ]
    }
   ],
   "source": [
    "city_name = input(\"Enter city name: \")\n",
    "get_weather(city_name, api_key)"
   ]
  },
  {
   "cell_type": "markdown",
   "id": "c9766e0b",
   "metadata": {},
   "source": [
    "# Conclusion\n",
    "\n",
    "Some cities are hotter than others!"
   ]
  }
 ],
 "metadata": {
  "kernelspec": {
   "display_name": "Python 3 (ipykernel)",
   "language": "python",
   "name": "python3"
  },
  "language_info": {
   "codemirror_mode": {
    "name": "ipython",
    "version": 3
   },
   "file_extension": ".py",
   "mimetype": "text/x-python",
   "name": "python",
   "nbconvert_exporter": "python",
   "pygments_lexer": "ipython3",
   "version": "3.12.4"
  }
 },
 "nbformat": 4,
 "nbformat_minor": 5
}
